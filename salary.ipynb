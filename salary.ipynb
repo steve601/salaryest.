{
 "cells": [
  {
   "cell_type": "code",
   "execution_count": 1,
   "id": "56f73bfd",
   "metadata": {},
   "outputs": [],
   "source": [
    "# importing libraries\n",
    "import pandas as pd\n",
    "import numpy as np\n",
    "from matplotlib import pyplot as plt\n",
    "import seaborn as sns"
   ]
  },
  {
   "cell_type": "code",
   "execution_count": 2,
   "id": "2a8b863d",
   "metadata": {
    "scrolled": true
   },
   "outputs": [
    {
     "data": {
      "text/html": [
       "<div>\n",
       "<style scoped>\n",
       "    .dataframe tbody tr th:only-of-type {\n",
       "        vertical-align: middle;\n",
       "    }\n",
       "\n",
       "    .dataframe tbody tr th {\n",
       "        vertical-align: top;\n",
       "    }\n",
       "\n",
       "    .dataframe thead th {\n",
       "        text-align: right;\n",
       "    }\n",
       "</style>\n",
       "<table border=\"1\" class=\"dataframe\">\n",
       "  <thead>\n",
       "    <tr style=\"text-align: right;\">\n",
       "      <th></th>\n",
       "      <th>Age</th>\n",
       "      <th>Gender</th>\n",
       "      <th>Education Level</th>\n",
       "      <th>Job Title</th>\n",
       "      <th>Years of Experience</th>\n",
       "      <th>Salary</th>\n",
       "    </tr>\n",
       "  </thead>\n",
       "  <tbody>\n",
       "    <tr>\n",
       "      <th>0</th>\n",
       "      <td>32.0</td>\n",
       "      <td>Male</td>\n",
       "      <td>Bachelor's</td>\n",
       "      <td>Software Engineer</td>\n",
       "      <td>5.0</td>\n",
       "      <td>90000.0</td>\n",
       "    </tr>\n",
       "    <tr>\n",
       "      <th>1</th>\n",
       "      <td>28.0</td>\n",
       "      <td>Female</td>\n",
       "      <td>Master's</td>\n",
       "      <td>Data Analyst</td>\n",
       "      <td>3.0</td>\n",
       "      <td>65000.0</td>\n",
       "    </tr>\n",
       "    <tr>\n",
       "      <th>2</th>\n",
       "      <td>45.0</td>\n",
       "      <td>Male</td>\n",
       "      <td>PhD</td>\n",
       "      <td>Senior Manager</td>\n",
       "      <td>15.0</td>\n",
       "      <td>150000.0</td>\n",
       "    </tr>\n",
       "    <tr>\n",
       "      <th>3</th>\n",
       "      <td>36.0</td>\n",
       "      <td>Female</td>\n",
       "      <td>Bachelor's</td>\n",
       "      <td>Sales Associate</td>\n",
       "      <td>7.0</td>\n",
       "      <td>60000.0</td>\n",
       "    </tr>\n",
       "    <tr>\n",
       "      <th>4</th>\n",
       "      <td>52.0</td>\n",
       "      <td>Male</td>\n",
       "      <td>Master's</td>\n",
       "      <td>Director</td>\n",
       "      <td>20.0</td>\n",
       "      <td>200000.0</td>\n",
       "    </tr>\n",
       "  </tbody>\n",
       "</table>\n",
       "</div>"
      ],
      "text/plain": [
       "    Age  Gender Education Level          Job Title  Years of Experience  \\\n",
       "0  32.0    Male      Bachelor's  Software Engineer                  5.0   \n",
       "1  28.0  Female        Master's       Data Analyst                  3.0   \n",
       "2  45.0    Male             PhD     Senior Manager                 15.0   \n",
       "3  36.0  Female      Bachelor's    Sales Associate                  7.0   \n",
       "4  52.0    Male        Master's           Director                 20.0   \n",
       "\n",
       "     Salary  \n",
       "0   90000.0  \n",
       "1   65000.0  \n",
       "2  150000.0  \n",
       "3   60000.0  \n",
       "4  200000.0  "
      ]
     },
     "execution_count": 2,
     "metadata": {},
     "output_type": "execute_result"
    }
   ],
   "source": [
    "# loading the dataset\n",
    "salary_df = pd.read_csv('Salary Data.csv')\n",
    "salary_df.head()"
   ]
  },
  {
   "cell_type": "code",
   "execution_count": 3,
   "id": "b9a677a1",
   "metadata": {},
   "outputs": [
    {
     "data": {
      "text/html": [
       "<div>\n",
       "<style scoped>\n",
       "    .dataframe tbody tr th:only-of-type {\n",
       "        vertical-align: middle;\n",
       "    }\n",
       "\n",
       "    .dataframe tbody tr th {\n",
       "        vertical-align: top;\n",
       "    }\n",
       "\n",
       "    .dataframe thead th {\n",
       "        text-align: right;\n",
       "    }\n",
       "</style>\n",
       "<table border=\"1\" class=\"dataframe\">\n",
       "  <thead>\n",
       "    <tr style=\"text-align: right;\">\n",
       "      <th></th>\n",
       "      <th>Age</th>\n",
       "      <th>Years of Experience</th>\n",
       "      <th>Salary</th>\n",
       "    </tr>\n",
       "  </thead>\n",
       "  <tbody>\n",
       "    <tr>\n",
       "      <th>count</th>\n",
       "      <td>373.000000</td>\n",
       "      <td>373.000000</td>\n",
       "      <td>373.000000</td>\n",
       "    </tr>\n",
       "    <tr>\n",
       "      <th>mean</th>\n",
       "      <td>37.431635</td>\n",
       "      <td>10.030831</td>\n",
       "      <td>100577.345845</td>\n",
       "    </tr>\n",
       "    <tr>\n",
       "      <th>std</th>\n",
       "      <td>7.069073</td>\n",
       "      <td>6.557007</td>\n",
       "      <td>48240.013482</td>\n",
       "    </tr>\n",
       "    <tr>\n",
       "      <th>min</th>\n",
       "      <td>23.000000</td>\n",
       "      <td>0.000000</td>\n",
       "      <td>350.000000</td>\n",
       "    </tr>\n",
       "    <tr>\n",
       "      <th>25%</th>\n",
       "      <td>31.000000</td>\n",
       "      <td>4.000000</td>\n",
       "      <td>55000.000000</td>\n",
       "    </tr>\n",
       "    <tr>\n",
       "      <th>50%</th>\n",
       "      <td>36.000000</td>\n",
       "      <td>9.000000</td>\n",
       "      <td>95000.000000</td>\n",
       "    </tr>\n",
       "    <tr>\n",
       "      <th>75%</th>\n",
       "      <td>44.000000</td>\n",
       "      <td>15.000000</td>\n",
       "      <td>140000.000000</td>\n",
       "    </tr>\n",
       "    <tr>\n",
       "      <th>max</th>\n",
       "      <td>53.000000</td>\n",
       "      <td>25.000000</td>\n",
       "      <td>250000.000000</td>\n",
       "    </tr>\n",
       "  </tbody>\n",
       "</table>\n",
       "</div>"
      ],
      "text/plain": [
       "              Age  Years of Experience         Salary\n",
       "count  373.000000           373.000000     373.000000\n",
       "mean    37.431635            10.030831  100577.345845\n",
       "std      7.069073             6.557007   48240.013482\n",
       "min     23.000000             0.000000     350.000000\n",
       "25%     31.000000             4.000000   55000.000000\n",
       "50%     36.000000             9.000000   95000.000000\n",
       "75%     44.000000            15.000000  140000.000000\n",
       "max     53.000000            25.000000  250000.000000"
      ]
     },
     "execution_count": 3,
     "metadata": {},
     "output_type": "execute_result"
    }
   ],
   "source": [
    "#statistical summary\n",
    "salary_df.describe()"
   ]
  },
  {
   "cell_type": "code",
   "execution_count": 4,
   "id": "e690e9cc",
   "metadata": {},
   "outputs": [],
   "source": [
    "salary_df.rename(columns = {'Age':'age','Gender':'gender','Education Level':'education_level','Job Title':'job_title','Years of Experience':'year_of_experience'},inplace = True)"
   ]
  },
  {
   "cell_type": "code",
   "execution_count": 5,
   "id": "7623c371",
   "metadata": {},
   "outputs": [
    {
     "name": "stdout",
     "output_type": "stream",
     "text": [
      "<class 'pandas.core.frame.DataFrame'>\n",
      "RangeIndex: 375 entries, 0 to 374\n",
      "Data columns (total 6 columns):\n",
      " #   Column              Non-Null Count  Dtype  \n",
      "---  ------              --------------  -----  \n",
      " 0   age                 373 non-null    float64\n",
      " 1   gender              373 non-null    object \n",
      " 2   education_level     373 non-null    object \n",
      " 3   job_title           373 non-null    object \n",
      " 4   year_of_experience  373 non-null    float64\n",
      " 5   Salary              373 non-null    float64\n",
      "dtypes: float64(3), object(3)\n",
      "memory usage: 17.7+ KB\n"
     ]
    }
   ],
   "source": [
    "#overall's data information\n",
    "salary_df.info()"
   ]
  },
  {
   "cell_type": "code",
   "execution_count": 6,
   "id": "63e3a2e7",
   "metadata": {},
   "outputs": [],
   "source": [
    "#dropping 'gender' and 'age' column since the dont constitute in one's salary\n",
    "salary_df.drop(columns=['gender','age'],inplace = True)"
   ]
  },
  {
   "cell_type": "code",
   "execution_count": 7,
   "id": "44045e5e",
   "metadata": {},
   "outputs": [
    {
     "data": {
      "text/plain": [
       "Director of Marketing              12\n",
       "Director of Operations             11\n",
       "Senior Business Analyst            10\n",
       "Senior Marketing Analyst            9\n",
       "Senior Marketing Manager            9\n",
       "                                   ..\n",
       "Business Development Manager        1\n",
       "Customer Service Representative     1\n",
       "IT Manager                          1\n",
       "Digital Marketing Manager           1\n",
       "Junior Web Developer                1\n",
       "Name: job_title, Length: 174, dtype: int64"
      ]
     },
     "execution_count": 7,
     "metadata": {},
     "output_type": "execute_result"
    }
   ],
   "source": [
    "salary_df['job_title'].value_counts()"
   ]
  },
  {
   "cell_type": "code",
   "execution_count": 8,
   "id": "44dcaaa8",
   "metadata": {},
   "outputs": [],
   "source": [
    "#dropping null values\n",
    "salary_df = salary_df.dropna()"
   ]
  },
  {
   "cell_type": "code",
   "execution_count": 9,
   "id": "d42d5b00",
   "metadata": {},
   "outputs": [
    {
     "data": {
      "text/plain": [
       "Index(['Director of Marketing', 'Director of Operations',\n",
       "       'Senior Business Analyst', 'Senior Marketing Analyst',\n",
       "       'Senior Marketing Manager', 'Junior Business Analyst',\n",
       "       'Senior Financial Analyst', 'Junior Financial Analyst',\n",
       "       'Junior Business Development Associate', 'Senior Project Manager',\n",
       "       ...\n",
       "       'Human Resources Director', 'Creative Director',\n",
       "       'Technical Support Specialist', 'Research Director', 'Web Developer',\n",
       "       'Business Development Manager', 'Customer Service Representative',\n",
       "       'IT Manager', 'Digital Marketing Manager', 'Junior Web Developer'],\n",
       "      dtype='object', length=174)"
      ]
     },
     "execution_count": 9,
     "metadata": {},
     "output_type": "execute_result"
    }
   ],
   "source": [
    "salary_df['job_title'].value_counts().index"
   ]
  },
  {
   "cell_type": "markdown",
   "id": "bbf0975d",
   "metadata": {},
   "source": [
    "### Shortening the 'title' category"
   ]
  },
  {
   "cell_type": "code",
   "execution_count": 10,
   "id": "d5473df4",
   "metadata": {},
   "outputs": [],
   "source": [
    "def shorten_cat(categories,cuttoff):\n",
    "    map = {}\n",
    "    for i in range(len(categories)):\n",
    "        if categories.values[i] >=cuttoff:\n",
    "            map[categories.index[i]] = categories.index[i]\n",
    "        else:\n",
    "            map[categories.index[i]] = 'Other'\n",
    "    return map"
   ]
  },
  {
   "cell_type": "code",
   "execution_count": 11,
   "id": "b279890e",
   "metadata": {},
   "outputs": [],
   "source": [
    "salary_df['job_title'] = salary_df['job_title'].map(shorten_cat(salary_df['job_title'].value_counts(),3))"
   ]
  },
  {
   "cell_type": "code",
   "execution_count": 12,
   "id": "901a5c20",
   "metadata": {},
   "outputs": [
    {
     "data": {
      "text/plain": [
       "Other                                    163\n",
       "Director of Marketing                     12\n",
       "Director of Operations                    11\n",
       "Senior Business Analyst                   10\n",
       "Senior Marketing Manager                   9\n",
       "Senior Marketing Analyst                   9\n",
       "Junior Business Analyst                    8\n",
       "Junior Business Development Associate      7\n",
       "Senior Data Scientist                      7\n",
       "Junior Financial Analyst                   7\n",
       "Senior Financial Analyst                   7\n",
       "Senior Project Manager                     7\n",
       "Junior Marketing Coordinator               6\n",
       "Senior Software Engineer                   6\n",
       "Senior Product Manager                     6\n",
       "Senior Operations Manager                  5\n",
       "Junior Operations Analyst                  5\n",
       "Junior Marketing Specialist                5\n",
       "Junior Project Manager                     5\n",
       "Senior Project Coordinator                 5\n",
       "Senior Product Designer                    5\n",
       "Senior Financial Manager                   5\n",
       "Senior Marketing Specialist                4\n",
       "Senior Data Engineer                       4\n",
       "Junior Product Manager                     4\n",
       "Junior Sales Representative                4\n",
       "Senior Business Development Manager        4\n",
       "Senior Operations Coordinator              4\n",
       "Junior Marketing Manager                   3\n",
       "Sales Manager                              3\n",
       "Senior Marketing Coordinator               3\n",
       "Senior Software Developer                  3\n",
       "Junior Marketing Analyst                   3\n",
       "Senior UX Designer                         3\n",
       "Senior HR Manager                          3\n",
       "Junior Accountant                          3\n",
       "Senior Data Analyst                        3\n",
       "Senior Financial Advisor                   3\n",
       "Junior Operations Manager                  3\n",
       "Senior Scientist                           3\n",
       "Marketing Coordinator                      3\n",
       "Name: job_title, dtype: int64"
      ]
     },
     "execution_count": 12,
     "metadata": {},
     "output_type": "execute_result"
    }
   ],
   "source": [
    "salary_df['job_title'].value_counts()"
   ]
  },
  {
   "cell_type": "markdown",
   "id": "a7420720",
   "metadata": {},
   "source": [
    "### Dropping duplicates"
   ]
  },
  {
   "cell_type": "code",
   "execution_count": 13,
   "id": "1f8efeaa",
   "metadata": {},
   "outputs": [
    {
     "data": {
      "text/plain": [
       "0      False\n",
       "1      False\n",
       "2      False\n",
       "3      False\n",
       "4      False\n",
       "       ...  \n",
       "370     True\n",
       "371     True\n",
       "372     True\n",
       "373     True\n",
       "374     True\n",
       "Length: 373, dtype: bool"
      ]
     },
     "execution_count": 13,
     "metadata": {},
     "output_type": "execute_result"
    }
   ],
   "source": [
    "salary_df.duplicated()"
   ]
  },
  {
   "cell_type": "code",
   "execution_count": 14,
   "id": "3afb25ef",
   "metadata": {},
   "outputs": [],
   "source": [
    "salary_df = salary_df.drop_duplicates()"
   ]
  },
  {
   "cell_type": "code",
   "execution_count": 15,
   "id": "c09649ce",
   "metadata": {},
   "outputs": [],
   "source": [
    "salary_df = salary_df[salary_df['job_title'] != 'Other']"
   ]
  },
  {
   "cell_type": "code",
   "execution_count": 17,
   "id": "8f56b90f",
   "metadata": {},
   "outputs": [
    {
     "data": {
      "text/plain": [
       "array([ 4,  1, 10, 16, 11,  9, 23, 21,  1, 18,  6, 21,  6, 25, 19, 13, 14,\n",
       "        6,  0,  6, 10, 17, 25,  5, 16,  2,  4,  8, 21,  1, 19,  4,  2, 13,\n",
       "        1,  8, 16,  4, 11, 18,  9,  5,  7,  7,  1,  9,  2, 16, 18,  4, 20,\n",
       "        2,  9, 15,  2,  8,  1,  7, 11, 17,  9, 10, 15,  2,  8, 14,  6,  9,\n",
       "       22, 19,  2, 11, 18,  5,  3, 15, 13,  3,  9, 16,  5, 10, 18,  1, 10,\n",
       "       19,  6,  8, 21,  3, 11, 10,  3, 12,  1,  8,  4,  9, 16,  4,  8, 20,\n",
       "        9, 17,  5,  8, 21,  3,  9,  4, 13,  4, 10, 21,  2,  7, 14,  4, 12,\n",
       "       16,  9,  3,  9,  5,  8, 12,  6, 10, 16, 12,  2,  9, 15,  3,  3, 12,\n",
       "       16,  4,  8, 19,  2,  7, 15,  5,  8, 18, 14, 16,  1,  8])"
      ]
     },
     "execution_count": 17,
     "metadata": {},
     "output_type": "execute_result"
    }
   ],
   "source": [
    "#years of experince should be in int form\n",
    "salary_df['year_of_experience'] = salary_df['year_of_experience'].astype(int)\n",
    "salary_df['year_of_experience'].values"
   ]
  },
  {
   "cell_type": "code",
   "execution_count": 18,
   "id": "b4086991",
   "metadata": {},
   "outputs": [
    {
     "data": {
      "text/plain": [
       "40"
      ]
     },
     "execution_count": 18,
     "metadata": {},
     "output_type": "execute_result"
    }
   ],
   "source": [
    "salary_df['job_title'].nunique()"
   ]
  },
  {
   "cell_type": "code",
   "execution_count": 19,
   "id": "3148dcb8",
   "metadata": {
    "scrolled": true
   },
   "outputs": [
    {
     "data": {
      "text/html": [
       "<div>\n",
       "<style scoped>\n",
       "    .dataframe tbody tr th:only-of-type {\n",
       "        vertical-align: middle;\n",
       "    }\n",
       "\n",
       "    .dataframe tbody tr th {\n",
       "        vertical-align: top;\n",
       "    }\n",
       "\n",
       "    .dataframe thead th {\n",
       "        text-align: right;\n",
       "    }\n",
       "</style>\n",
       "<table border=\"1\" class=\"dataframe\">\n",
       "  <thead>\n",
       "    <tr style=\"text-align: right;\">\n",
       "      <th></th>\n",
       "      <th>education_level</th>\n",
       "      <th>job_title</th>\n",
       "      <th>year_of_experience</th>\n",
       "      <th>Salary</th>\n",
       "    </tr>\n",
       "  </thead>\n",
       "  <tbody>\n",
       "    <tr>\n",
       "      <th>7</th>\n",
       "      <td>Bachelor's</td>\n",
       "      <td>Sales Manager</td>\n",
       "      <td>4</td>\n",
       "      <td>80000.0</td>\n",
       "    </tr>\n",
       "    <tr>\n",
       "      <th>8</th>\n",
       "      <td>Bachelor's</td>\n",
       "      <td>Marketing Coordinator</td>\n",
       "      <td>1</td>\n",
       "      <td>45000.0</td>\n",
       "    </tr>\n",
       "    <tr>\n",
       "      <th>9</th>\n",
       "      <td>PhD</td>\n",
       "      <td>Senior Scientist</td>\n",
       "      <td>10</td>\n",
       "      <td>110000.0</td>\n",
       "    </tr>\n",
       "    <tr>\n",
       "      <th>47</th>\n",
       "      <td>Master's</td>\n",
       "      <td>Director of Marketing</td>\n",
       "      <td>16</td>\n",
       "      <td>180000.0</td>\n",
       "    </tr>\n",
       "    <tr>\n",
       "      <th>48</th>\n",
       "      <td>PhD</td>\n",
       "      <td>Senior Scientist</td>\n",
       "      <td>11</td>\n",
       "      <td>120000.0</td>\n",
       "    </tr>\n",
       "  </tbody>\n",
       "</table>\n",
       "</div>"
      ],
      "text/plain": [
       "   education_level              job_title  year_of_experience    Salary\n",
       "7       Bachelor's          Sales Manager                   4   80000.0\n",
       "8       Bachelor's  Marketing Coordinator                   1   45000.0\n",
       "9              PhD       Senior Scientist                  10  110000.0\n",
       "47        Master's  Director of Marketing                  16  180000.0\n",
       "48             PhD       Senior Scientist                  11  120000.0"
      ]
     },
     "execution_count": 19,
     "metadata": {},
     "output_type": "execute_result"
    }
   ],
   "source": [
    "salary_df.head()"
   ]
  },
  {
   "cell_type": "markdown",
   "id": "96192607",
   "metadata": {},
   "source": [
    "### Let's check for outliers"
   ]
  },
  {
   "cell_type": "code",
   "execution_count": 20,
   "id": "dc3d5e0d",
   "metadata": {
    "scrolled": true
   },
   "outputs": [
    {
     "data": {
      "text/plain": [
       "<Axes: xlabel='year_of_experience'>"
      ]
     },
     "execution_count": 20,
     "metadata": {},
     "output_type": "execute_result"
    },
    {
     "data": {
      "image/png": "[encoded data removed]",
      "text/plain": [
       "<Figure size 640x480 with 1 Axes>"
      ]
     },
     "metadata": {},
     "output_type": "display_data"
    }
   ],
   "source": [
    "sns.boxplot(x = salary_df['year_of_experience'])"
   ]
  },
  {
   "cell_type": "code",
   "execution_count": 21,
   "id": "69f25466",
   "metadata": {},
   "outputs": [
    {
     "data": {
      "text/plain": [
       "<Axes: xlabel='Salary'>"
      ]
     },
     "execution_count": 21,
     "metadata": {},
     "output_type": "execute_result"
    },
    {
     "data": {
      "image/png": "[encoded data removed]",
      "text/plain": [
       "<Figure size 640x480 with 1 Axes>"
      ]
     },
     "metadata": {},
     "output_type": "display_data"
    }
   ],
   "source": [
    "sns.boxplot(x = salary_df['Salary'])"
   ]
  },
  {
   "cell_type": "code",
   "execution_count": 22,
   "id": "dd442cfa",
   "metadata": {
    "scrolled": true
   },
   "outputs": [
    {
     "data": {
      "text/plain": [
       "(array([20., 19., 19., 25., 18.,  8., 18., 11.,  9.,  3.]),\n",
       " array([ 0. ,  2.5,  5. ,  7.5, 10. , 12.5, 15. , 17.5, 20. , 22.5, 25. ]),\n",
       " <BarContainer object of 10 artists>)"
      ]
     },
     "execution_count": 22,
     "metadata": {},
     "output_type": "execute_result"
    },
    {
     "data": {
      "image/png": "[encoded data removed]",
      "text/plain": [
       "<Figure size 640x480 with 1 Axes>"
      ]
     },
     "metadata": {},
     "output_type": "display_data"
    }
   ],
   "source": [
    "plt.hist(x = salary_df['year_of_experience'])"
   ]
  },
  {
   "cell_type": "code",
   "execution_count": 23,
   "id": "3785e8ee",
   "metadata": {},
   "outputs": [
    {
     "data": {
      "text/plain": [
       "(150, 4)"
      ]
     },
     "execution_count": 23,
     "metadata": {},
     "output_type": "execute_result"
    }
   ],
   "source": [
    "salary_df.shape"
   ]
  },
  {
   "cell_type": "code",
   "execution_count": 24,
   "id": "9d61fcc8",
   "metadata": {},
   "outputs": [
    {
     "data": {
      "text/plain": [
       "array([ 4,  1, 10, 16, 11,  9, 23, 21,  1, 18,  6, 21,  6, 25, 19, 13, 14,\n",
       "        6,  0,  6, 10, 17, 25,  5, 16,  2,  4,  8, 21,  1, 19,  4,  2, 13,\n",
       "        1,  8, 16,  4, 11, 18,  9,  5,  7,  7,  1,  9,  2, 16, 18,  4, 20,\n",
       "        2,  9, 15,  2,  8,  1,  7, 11, 17,  9, 10, 15,  2,  8, 14,  6,  9,\n",
       "       22, 19,  2, 11, 18,  5,  3, 15, 13,  3,  9, 16,  5, 10, 18,  1, 10,\n",
       "       19,  6,  8, 21,  3, 11, 10,  3, 12,  1,  8,  4,  9, 16,  4,  8, 20,\n",
       "        9, 17,  5,  8, 21,  3,  9,  4, 13,  4, 10, 21,  2,  7, 14,  4, 12,\n",
       "       16,  9,  3,  9,  5,  8, 12,  6, 10, 16, 12,  2,  9, 15,  3,  3, 12,\n",
       "       16,  4,  8, 19,  2,  7, 15,  5,  8, 18, 14, 16,  1,  8])"
      ]
     },
     "execution_count": 24,
     "metadata": {},
     "output_type": "execute_result"
    }
   ],
   "source": [
    "salary_df['year_of_experience'].values"
   ]
  },
  {
   "cell_type": "code",
   "execution_count": 25,
   "id": "9d5193d9",
   "metadata": {},
   "outputs": [
    {
     "data": {
      "text/plain": [
       "(array([20., 19., 19., 25., 18.,  8., 18., 11.,  9.,  3.]),\n",
       " array([ 0. ,  2.5,  5. ,  7.5, 10. , 12.5, 15. , 17.5, 20. , 22.5, 25. ]),\n",
       " <BarContainer object of 10 artists>)"
      ]
     },
     "execution_count": 25,
     "metadata": {},
     "output_type": "execute_result"
    },
    {
     "data": {
      "image/png": "[encoded data removed]",
      "text/plain": [
       "<Figure size 640x480 with 1 Axes>"
      ]
     },
     "metadata": {},
     "output_type": "display_data"
    }
   ],
   "source": [
    "plt.hist(x = salary_df['year_of_experience'])"
   ]
  },
  {
   "cell_type": "code",
   "execution_count": 26,
   "id": "3c463796",
   "metadata": {},
   "outputs": [
    {
     "data": {
      "text/plain": [
       "array(['Sales Manager', 'Marketing Coordinator', 'Senior Scientist',\n",
       "       'Director of Marketing', 'Director of Operations',\n",
       "       'Senior Data Scientist', 'Junior Accountant',\n",
       "       'Senior Financial Analyst', 'Senior Software Engineer',\n",
       "       'Senior Project Manager', 'Senior Marketing Manager',\n",
       "       'Senior HR Manager', 'Senior Project Coordinator',\n",
       "       'Senior Marketing Analyst', 'Senior Business Analyst',\n",
       "       'Junior Marketing Analyst', 'Senior Product Manager',\n",
       "       'Junior Operations Analyst', 'Senior Software Developer',\n",
       "       'Junior Sales Representative', 'Junior Marketing Manager',\n",
       "       'Junior Business Analyst', 'Junior Marketing Specialist',\n",
       "       'Junior Project Manager', 'Senior Business Development Manager',\n",
       "       'Senior Product Designer', 'Junior Financial Analyst',\n",
       "       'Senior Operations Manager', 'Senior Marketing Coordinator',\n",
       "       'Junior Business Development Associate',\n",
       "       'Junior Marketing Coordinator', 'Senior UX Designer',\n",
       "       'Junior Product Manager', 'Senior Marketing Specialist',\n",
       "       'Senior Data Analyst', 'Senior Financial Advisor',\n",
       "       'Junior Operations Manager', 'Senior Financial Manager',\n",
       "       'Senior Data Engineer', 'Senior Operations Coordinator'],\n",
       "      dtype=object)"
      ]
     },
     "execution_count": 26,
     "metadata": {},
     "output_type": "execute_result"
    }
   ],
   "source": [
    "salary_df['job_title'].unique()"
   ]
  },
  {
   "cell_type": "code",
   "execution_count": 27,
   "id": "efcc6e81",
   "metadata": {},
   "outputs": [
    {
     "data": {
      "text/plain": [
       "array([\"Bachelor's\", 'PhD', \"Master's\"], dtype=object)"
      ]
     },
     "execution_count": 27,
     "metadata": {},
     "output_type": "execute_result"
    }
   ],
   "source": [
    "salary_df['education_level'].unique()"
   ]
  },
  {
   "cell_type": "code",
   "execution_count": 29,
   "id": "7cc8a80b",
   "metadata": {
    "scrolled": true
   },
   "outputs": [
    {
     "data": {
      "text/html": [
       "<div>\n",
       "<style scoped>\n",
       "    .dataframe tbody tr th:only-of-type {\n",
       "        vertical-align: middle;\n",
       "    }\n",
       "\n",
       "    .dataframe tbody tr th {\n",
       "        vertical-align: top;\n",
       "    }\n",
       "\n",
       "    .dataframe thead th {\n",
       "        text-align: right;\n",
       "    }\n",
       "</style>\n",
       "<table border=\"1\" class=\"dataframe\">\n",
       "  <thead>\n",
       "    <tr style=\"text-align: right;\">\n",
       "      <th></th>\n",
       "      <th>education_level</th>\n",
       "      <th>job_title</th>\n",
       "      <th>year_of_experience</th>\n",
       "      <th>Salary</th>\n",
       "    </tr>\n",
       "  </thead>\n",
       "  <tbody>\n",
       "    <tr>\n",
       "      <th>7</th>\n",
       "      <td>Bachelor's</td>\n",
       "      <td>Sales Manager</td>\n",
       "      <td>4</td>\n",
       "      <td>80000.0</td>\n",
       "    </tr>\n",
       "    <tr>\n",
       "      <th>8</th>\n",
       "      <td>Bachelor's</td>\n",
       "      <td>Marketing Coordinator</td>\n",
       "      <td>1</td>\n",
       "      <td>45000.0</td>\n",
       "    </tr>\n",
       "    <tr>\n",
       "      <th>9</th>\n",
       "      <td>PhD</td>\n",
       "      <td>Senior Scientist</td>\n",
       "      <td>10</td>\n",
       "      <td>110000.0</td>\n",
       "    </tr>\n",
       "    <tr>\n",
       "      <th>47</th>\n",
       "      <td>Master's</td>\n",
       "      <td>Director of Marketing</td>\n",
       "      <td>16</td>\n",
       "      <td>180000.0</td>\n",
       "    </tr>\n",
       "    <tr>\n",
       "      <th>48</th>\n",
       "      <td>PhD</td>\n",
       "      <td>Senior Scientist</td>\n",
       "      <td>11</td>\n",
       "      <td>120000.0</td>\n",
       "    </tr>\n",
       "  </tbody>\n",
       "</table>\n",
       "</div>"
      ],
      "text/plain": [
       "   education_level              job_title  year_of_experience    Salary\n",
       "7       Bachelor's          Sales Manager                   4   80000.0\n",
       "8       Bachelor's  Marketing Coordinator                   1   45000.0\n",
       "9              PhD       Senior Scientist                  10  110000.0\n",
       "47        Master's  Director of Marketing                  16  180000.0\n",
       "48             PhD       Senior Scientist                  11  120000.0"
      ]
     },
     "execution_count": 29,
     "metadata": {},
     "output_type": "execute_result"
    }
   ],
   "source": [
    "salary_df.head()"
   ]
  },
  {
   "cell_type": "code",
   "execution_count": 30,
   "id": "beecaac3",
   "metadata": {},
   "outputs": [],
   "source": [
    "from sklearn.preprocessing import LabelEncoder"
   ]
  },
  {
   "cell_type": "code",
   "execution_count": 31,
   "id": "3dbfa19f",
   "metadata": {},
   "outputs": [
    {
     "data": {
      "text/plain": [
       "Bachelor's    91\n",
       "Master's      36\n",
       "PhD           23\n",
       "Name: education_level, dtype: int64"
      ]
     },
     "execution_count": 31,
     "metadata": {},
     "output_type": "execute_result"
    }
   ],
   "source": [
    "salary_df['education_level'].value_counts()"
   ]
  },
  {
   "cell_type": "code",
   "execution_count": 32,
   "id": "a82d8895",
   "metadata": {},
   "outputs": [],
   "source": [
    "salary_df['education_level'] = salary_df['education_level'].map({\"Bachelor's\":2,\"Master's\":1,\"PhD\":0})"
   ]
  },
  {
   "cell_type": "code",
   "execution_count": 33,
   "id": "1b7ea8b6",
   "metadata": {},
   "outputs": [],
   "source": [
    "le_job = LabelEncoder()\n",
    "salary_df['job_title'] = le_job.fit_transform(salary_df['job_title'])"
   ]
  },
  {
   "cell_type": "code",
   "execution_count": 34,
   "id": "6f3f9742",
   "metadata": {},
   "outputs": [
    {
     "data": {
      "text/plain": [
       "array([16, 15, 36,  0,  1, 21,  2, 23, 38, 35, 28, 25, 34, 26, 17,  6, 33,\n",
       "       10, 37, 14,  8,  3,  9, 13, 18, 32,  5, 31, 27,  4,  7, 39, 12, 29,\n",
       "       19, 22, 11, 24, 20, 30])"
      ]
     },
     "execution_count": 34,
     "metadata": {},
     "output_type": "execute_result"
    }
   ],
   "source": [
    "salary_df['job_title'].unique()"
   ]
  },
  {
   "cell_type": "code",
   "execution_count": 35,
   "id": "da6b6862",
   "metadata": {},
   "outputs": [
    {
     "data": {
      "text/plain": [
       "education_level       0\n",
       "job_title             0\n",
       "year_of_experience    0\n",
       "Salary                0\n",
       "dtype: int64"
      ]
     },
     "execution_count": 35,
     "metadata": {},
     "output_type": "execute_result"
    }
   ],
   "source": [
    "salary_df.isna().sum()"
   ]
  },
  {
   "cell_type": "markdown",
   "id": "452b04d2",
   "metadata": {},
   "source": [
    "### Creating dependent and independent variables and model building"
   ]
  },
  {
   "cell_type": "code",
   "execution_count": 36,
   "id": "8e12f8db",
   "metadata": {},
   "outputs": [],
   "source": [
    "X = salary_df.drop(columns = ['Salary'])\n",
    "y = salary_df['Salary']"
   ]
  },
  {
   "cell_type": "code",
   "execution_count": 37,
   "id": "a8b264f8",
   "metadata": {},
   "outputs": [],
   "source": [
    "from sklearn.model_selection import train_test_split\n",
    "from sklearn.preprocessing import MinMaxScaler\n",
    "from sklearn.linear_model import LinearRegression\n",
    "from sklearn.ensemble import RandomForestRegressor\n",
    "from sklearn.metrics import mean_squared_error\n",
    "from sklearn.metrics import r2_score\n",
    "from sklearn.model_selection import GridSearchCV"
   ]
  },
  {
   "cell_type": "code",
   "execution_count": 38,
   "id": "9b7e07a4",
   "metadata": {},
   "outputs": [],
   "source": [
    "X_train,X_test,y_train,y_test = train_test_split(X,y,test_size = 0.35, random_state = 0)"
   ]
  },
  {
   "cell_type": "code",
   "execution_count": 39,
   "id": "fccfce49",
   "metadata": {},
   "outputs": [],
   "source": [
    "#data scaling\n",
    "scaler = MinMaxScaler()\n",
    "scaler.fit(X_train)\n",
    "X_train = scaler.transform(X_train)\n",
    "X_test = scaler.transform(X_test)"
   ]
  },
  {
   "cell_type": "code",
   "execution_count": 40,
   "id": "3c76e0c4",
   "metadata": {},
   "outputs": [
    {
     "data": {
      "text/plain": [
       "array([[1.        , 0.25641026, 0.16666667],\n",
       "       [1.        , 0.20512821, 0.16666667],\n",
       "       [1.        , 0.17948718, 0.08333333],\n",
       "       [0.5       , 0.02564103, 0.83333333],\n",
       "       [1.        , 0.84615385, 0.54166667],\n",
       "       [0.5       , 0.02564103, 0.79166667],\n",
       "       [0.        , 0.51282051, 0.625     ],\n",
       "       [0.        , 0.48717949, 0.75      ],\n",
       "       [0.5       , 0.8974359 , 0.75      ],\n",
       "       [0.5       , 0.        , 0.79166667],\n",
       "       [1.        , 0.35897436, 0.        ],\n",
       "       [1.        , 0.66666667, 0.29166667],\n",
       "       [1.        , 0.12820513, 0.08333333],\n",
       "       [1.        , 0.61538462, 0.375     ],\n",
       "       [1.        , 0.8974359 , 0.45833333],\n",
       "       [0.        , 0.71794872, 0.70833333],\n",
       "       [0.5       , 0.71794872, 1.        ],\n",
       "       [1.        , 0.30769231, 0.125     ],\n",
       "       [1.        , 0.74358974, 0.29166667],\n",
       "       [0.5       , 0.84615385, 0.375     ],\n",
       "       [0.5       , 0.87179487, 0.5       ],\n",
       "       [0.5       , 0.43589744, 0.33333333],\n",
       "       [0.5       , 0.        , 0.625     ],\n",
       "       [1.        , 0.46153846, 0.29166667],\n",
       "       [0.        , 0.51282051, 0.625     ],\n",
       "       [0.5       , 0.02564103, 0.91666667],\n",
       "       [0.        , 0.02564103, 0.875     ],\n",
       "       [1.        , 0.07692308, 0.125     ],\n",
       "       [1.        , 0.28205128, 0.125     ],\n",
       "       [1.        , 0.38461538, 0.20833333],\n",
       "       [1.        , 0.8974359 , 0.33333333],\n",
       "       [1.        , 0.66666667, 0.33333333],\n",
       "       [1.        , 0.12820513, 0.16666667],\n",
       "       [0.5       , 0.71794872, 0.625     ],\n",
       "       [1.        , 0.17948718, 0.04166667],\n",
       "       [0.5       , 0.8974359 , 0.83333333],\n",
       "       [1.        , 0.97435897, 0.5       ],\n",
       "       [1.        , 0.43589744, 0.29166667],\n",
       "       [1.        , 0.12820513, 0.16666667],\n",
       "       [1.        , 0.28205128, 0.        ],\n",
       "       [1.        , 0.38461538, 0.        ],\n",
       "       [0.        , 0.02564103, 0.83333333],\n",
       "       [0.5       , 0.02564103, 0.75      ],\n",
       "       [0.5       , 0.79487179, 0.25      ],\n",
       "       [0.        , 0.92307692, 0.41666667],\n",
       "       [1.        , 0.8974359 , 0.45833333],\n",
       "       [0.5       , 0.43589744, 0.20833333],\n",
       "       [0.5       , 0.46153846, 0.41666667],\n",
       "       [1.        , 0.41025641, 0.33333333],\n",
       "       [0.        , 1.        , 0.58333333],\n",
       "       [1.        , 0.23076923, 0.16666667],\n",
       "       [1.        , 0.84615385, 0.29166667],\n",
       "       [1.        , 0.41025641, 0.125     ],\n",
       "       [0.5       , 0.23076923, 0.        ],\n",
       "       [0.5       , 0.02564103, 0.83333333],\n",
       "       [1.        , 0.74358974, 0.29166667],\n",
       "       [1.        , 0.8974359 , 0.58333333],\n",
       "       [1.        , 0.43589744, 0.29166667],\n",
       "       [1.        , 0.25641026, 0.16666667],\n",
       "       [1.        , 0.23076923, 0.08333333],\n",
       "       [1.        , 0.20512821, 0.125     ],\n",
       "       [1.        , 0.71794872, 0.45833333],\n",
       "       [1.        , 0.84615385, 0.25      ],\n",
       "       [1.        , 0.79487179, 0.33333333],\n",
       "       [1.        , 0.97435897, 0.54166667],\n",
       "       [1.        , 0.07692308, 0.04166667],\n",
       "       [1.        , 0.71794872, 0.29166667],\n",
       "       [0.5       , 0.64102564, 0.75      ],\n",
       "       [1.        , 0.76923077, 0.33333333],\n",
       "       [0.5       , 0.58974359, 0.20833333],\n",
       "       [1.        , 0.35897436, 0.        ],\n",
       "       [1.        , 0.15384615, 0.04166667],\n",
       "       [1.        , 0.05128205, 0.125     ],\n",
       "       [0.        , 1.        , 0.625     ],\n",
       "       [1.        , 0.20512821, 0.125     ],\n",
       "       [0.        , 0.64102564, 0.70833333],\n",
       "       [0.5       , 0.94871795, 0.625     ],\n",
       "       [1.        , 0.46153846, 0.25      ],\n",
       "       [0.5       , 0.        , 0.70833333],\n",
       "       [0.        , 0.53846154, 0.70833333],\n",
       "       [1.        , 0.35897436, 0.08333333],\n",
       "       [1.        , 0.05128205, 0.04166667],\n",
       "       [1.        , 0.74358974, 0.375     ],\n",
       "       [1.        , 0.33333333, 0.04166667],\n",
       "       [0.        , 0.43589744, 0.58333333],\n",
       "       [0.        , 0.82051282, 0.70833333],\n",
       "       [1.        , 0.69230769, 0.41666667],\n",
       "       [0.5       , 0.        , 0.83333333],\n",
       "       [1.        , 0.12820513, 0.04166667],\n",
       "       [1.        , 0.79487179, 0.29166667],\n",
       "       [0.        , 0.53846154, 0.625     ],\n",
       "       [1.        , 0.41025641, 0.66666667],\n",
       "       [0.5       , 0.58974359, 0.70833333],\n",
       "       [0.        , 0.48717949, 0.66666667],\n",
       "       [1.        , 0.87179487, 0.33333333],\n",
       "       [1.        , 0.12820513, 0.125     ],\n",
       "       [1.        , 0.8974359 , 0.625     ]])"
      ]
     },
     "execution_count": 40,
     "metadata": {},
     "output_type": "execute_result"
    }
   ],
   "source": [
    "X_train"
   ]
  },
  {
   "cell_type": "code",
   "execution_count": 41,
   "id": "5e1c3948",
   "metadata": {},
   "outputs": [],
   "source": [
    "from sklearn.preprocessing import PowerTransformer\n",
    "power = PowerTransformer(method = 'yeo-johnson')"
   ]
  },
  {
   "cell_type": "code",
   "execution_count": 42,
   "id": "210f6690",
   "metadata": {},
   "outputs": [],
   "source": [
    "power.fit(X_train)\n",
    "X_trainp = power.transform(X_train)\n",
    "X_testp = power.transform(X_test)"
   ]
  },
  {
   "cell_type": "code",
   "execution_count": 45,
   "id": "16e52635",
   "metadata": {},
   "outputs": [
    {
     "data": {
      "text/plain": [
       "9519.728358886796"
      ]
     },
     "execution_count": 45,
     "metadata": {},
     "output_type": "execute_result"
    }
   ],
   "source": [
    "linearp = LinearRegression()\n",
    "linearp.fit(X_trainp,y_train)\n",
    "linearp_pred = linearp.predict(X_testp)\n",
    "error = np.sqrt(mean_squared_error(y_test,linearp_pred))\n",
    "error"
   ]
  },
  {
   "cell_type": "code",
   "execution_count": 46,
   "id": "aadf1c1b",
   "metadata": {},
   "outputs": [
    {
     "name": "stdout",
     "output_type": "stream",
     "text": [
      "0.945624669608402\n"
     ]
    }
   ],
   "source": [
    "print(r2_score(y_test,linearp_pred))"
   ]
  },
  {
   "cell_type": "markdown",
   "id": "2cb0916e",
   "metadata": {},
   "source": [
    "## Model hyperparameter tuning"
   ]
  },
  {
   "cell_type": "code",
   "execution_count": 47,
   "id": "fac6b9b7",
   "metadata": {},
   "outputs": [],
   "source": [
    "rf = RandomForestRegressor()\n",
    "reg = GridSearchCV(rf,{'n_estimators':[10,15,20],'criterion':['friedman_mse', 'squared_error', 'poisson']},cv = 5,return_train_score = False)"
   ]
  },
  {
   "cell_type": "code",
   "execution_count": 48,
   "id": "11a3940d",
   "metadata": {},
   "outputs": [
    {
     "data": {
      "text/plain": [
       "{'mean_fit_time': array([0.05306935, 0.02187357, 0.04374347, 0.02187347, 0.01874943,\n",
       "        0.04244266, 0.04356904, 0.03965678, 0.04133344]),\n",
       " 'std_fit_time': array([0.06736093, 0.00765456, 0.00625044, 0.00765366, 0.00625064,\n",
       "        0.00590547, 0.03709242, 0.00609958, 0.01275269]),\n",
       " 'mean_score_time': array([0.00624981, 0.00624948, 0.00312467, 0.        , 0.00624914,\n",
       "        0.00396585, 0.00214386, 0.        , 0.0062499 ]),\n",
       " 'std_score_time': array([0.00765442, 0.00765401, 0.00624933, 0.        , 0.0076536 ,\n",
       "        0.00634972, 0.00308852, 0.        , 0.00765454]),\n",
       " 'param_criterion': masked_array(data=['friedman_mse', 'friedman_mse', 'friedman_mse',\n",
       "                    'squared_error', 'squared_error', 'squared_error',\n",
       "                    'poisson', 'poisson', 'poisson'],\n",
       "              mask=[False, False, False, False, False, False, False, False,\n",
       "                    False],\n",
       "        fill_value='?',\n",
       "             dtype=object),\n",
       " 'param_n_estimators': masked_array(data=[10, 15, 20, 10, 15, 20, 10, 15, 20],\n",
       "              mask=[False, False, False, False, False, False, False, False,\n",
       "                    False],\n",
       "        fill_value='?',\n",
       "             dtype=object),\n",
       " 'params': [{'criterion': 'friedman_mse', 'n_estimators': 10},\n",
       "  {'criterion': 'friedman_mse', 'n_estimators': 15},\n",
       "  {'criterion': 'friedman_mse', 'n_estimators': 20},\n",
       "  {'criterion': 'squared_error', 'n_estimators': 10},\n",
       "  {'criterion': 'squared_error', 'n_estimators': 15},\n",
       "  {'criterion': 'squared_error', 'n_estimators': 20},\n",
       "  {'criterion': 'poisson', 'n_estimators': 10},\n",
       "  {'criterion': 'poisson', 'n_estimators': 15},\n",
       "  {'criterion': 'poisson', 'n_estimators': 20}],\n",
       " 'split0_test_score': array([0.94108878, 0.90971468, 0.92756195, 0.92078236, 0.93071424,\n",
       "        0.91447185, 0.92094998, 0.9235985 , 0.92710961]),\n",
       " 'split1_test_score': array([0.88407759, 0.85627691, 0.87426769, 0.84988122, 0.87684211,\n",
       "        0.86669584, 0.86128336, 0.85536106, 0.8423058 ]),\n",
       " 'split2_test_score': array([0.91355078, 0.92929025, 0.91833504, 0.93048238, 0.9330723 ,\n",
       "        0.92964215, 0.90697805, 0.91086243, 0.92212799]),\n",
       " 'split3_test_score': array([0.9419022 , 0.93933288, 0.93282518, 0.95065048, 0.9438141 ,\n",
       "        0.9485853 , 0.9314944 , 0.92049416, 0.94383869]),\n",
       " 'split4_test_score': array([0.88940762, 0.89636329, 0.89434962, 0.88559696, 0.90064109,\n",
       "        0.89254287, 0.89072928, 0.89277547, 0.90676868]),\n",
       " 'mean_test_score': array([0.9140054 , 0.9061956 , 0.9094679 , 0.90747868, 0.91701677,\n",
       "        0.9103876 , 0.90228701, 0.90061832, 0.90843015]),\n",
       " 'std_test_score': array([0.02454658, 0.02909425, 0.02199636, 0.0356826 , 0.02468062,\n",
       "        0.02854431, 0.02465061, 0.02505119, 0.03511555]),\n",
       " 'rank_test_score': array([2, 7, 4, 6, 1, 3, 8, 9, 5])}"
      ]
     },
     "execution_count": 48,
     "metadata": {},
     "output_type": "execute_result"
    }
   ],
   "source": [
    "reg.fit(X_trainp,y_train)\n",
    "reg.cv_results_"
   ]
  },
  {
   "cell_type": "code",
   "execution_count": 49,
   "id": "d26ed779",
   "metadata": {},
   "outputs": [
    {
     "data": {
      "text/html": [
       "<div>\n",
       "<style scoped>\n",
       "    .dataframe tbody tr th:only-of-type {\n",
       "        vertical-align: middle;\n",
       "    }\n",
       "\n",
       "    .dataframe tbody tr th {\n",
       "        vertical-align: top;\n",
       "    }\n",
       "\n",
       "    .dataframe thead th {\n",
       "        text-align: right;\n",
       "    }\n",
       "</style>\n",
       "<table border=\"1\" class=\"dataframe\">\n",
       "  <thead>\n",
       "    <tr style=\"text-align: right;\">\n",
       "      <th></th>\n",
       "      <th>mean_fit_time</th>\n",
       "      <th>std_fit_time</th>\n",
       "      <th>mean_score_time</th>\n",
       "      <th>std_score_time</th>\n",
       "      <th>param_criterion</th>\n",
       "      <th>param_n_estimators</th>\n",
       "      <th>params</th>\n",
       "      <th>split0_test_score</th>\n",
       "      <th>split1_test_score</th>\n",
       "      <th>split2_test_score</th>\n",
       "      <th>split3_test_score</th>\n",
       "      <th>split4_test_score</th>\n",
       "      <th>mean_test_score</th>\n",
       "      <th>std_test_score</th>\n",
       "      <th>rank_test_score</th>\n",
       "    </tr>\n",
       "  </thead>\n",
       "  <tbody>\n",
       "    <tr>\n",
       "      <th>0</th>\n",
       "      <td>0.053069</td>\n",
       "      <td>0.067361</td>\n",
       "      <td>0.006250</td>\n",
       "      <td>0.007654</td>\n",
       "      <td>friedman_mse</td>\n",
       "      <td>10</td>\n",
       "      <td>{'criterion': 'friedman_mse', 'n_estimators': 10}</td>\n",
       "      <td>0.941089</td>\n",
       "      <td>0.884078</td>\n",
       "      <td>0.913551</td>\n",
       "      <td>0.941902</td>\n",
       "      <td>0.889408</td>\n",
       "      <td>0.914005</td>\n",
       "      <td>0.024547</td>\n",
       "      <td>2</td>\n",
       "    </tr>\n",
       "    <tr>\n",
       "      <th>1</th>\n",
       "      <td>0.021874</td>\n",
       "      <td>0.007655</td>\n",
       "      <td>0.006249</td>\n",
       "      <td>0.007654</td>\n",
       "      <td>friedman_mse</td>\n",
       "      <td>15</td>\n",
       "      <td>{'criterion': 'friedman_mse', 'n_estimators': 15}</td>\n",
       "      <td>0.909715</td>\n",
       "      <td>0.856277</td>\n",
       "      <td>0.929290</td>\n",
       "      <td>0.939333</td>\n",
       "      <td>0.896363</td>\n",
       "      <td>0.906196</td>\n",
       "      <td>0.029094</td>\n",
       "      <td>7</td>\n",
       "    </tr>\n",
       "    <tr>\n",
       "      <th>2</th>\n",
       "      <td>0.043743</td>\n",
       "      <td>0.006250</td>\n",
       "      <td>0.003125</td>\n",
       "      <td>0.006249</td>\n",
       "      <td>friedman_mse</td>\n",
       "      <td>20</td>\n",
       "      <td>{'criterion': 'friedman_mse', 'n_estimators': 20}</td>\n",
       "      <td>0.927562</td>\n",
       "      <td>0.874268</td>\n",
       "      <td>0.918335</td>\n",
       "      <td>0.932825</td>\n",
       "      <td>0.894350</td>\n",
       "      <td>0.909468</td>\n",
       "      <td>0.021996</td>\n",
       "      <td>4</td>\n",
       "    </tr>\n",
       "    <tr>\n",
       "      <th>3</th>\n",
       "      <td>0.021873</td>\n",
       "      <td>0.007654</td>\n",
       "      <td>0.000000</td>\n",
       "      <td>0.000000</td>\n",
       "      <td>squared_error</td>\n",
       "      <td>10</td>\n",
       "      <td>{'criterion': 'squared_error', 'n_estimators':...</td>\n",
       "      <td>0.920782</td>\n",
       "      <td>0.849881</td>\n",
       "      <td>0.930482</td>\n",
       "      <td>0.950650</td>\n",
       "      <td>0.885597</td>\n",
       "      <td>0.907479</td>\n",
       "      <td>0.035683</td>\n",
       "      <td>6</td>\n",
       "    </tr>\n",
       "    <tr>\n",
       "      <th>4</th>\n",
       "      <td>0.018749</td>\n",
       "      <td>0.006251</td>\n",
       "      <td>0.006249</td>\n",
       "      <td>0.007654</td>\n",
       "      <td>squared_error</td>\n",
       "      <td>15</td>\n",
       "      <td>{'criterion': 'squared_error', 'n_estimators':...</td>\n",
       "      <td>0.930714</td>\n",
       "      <td>0.876842</td>\n",
       "      <td>0.933072</td>\n",
       "      <td>0.943814</td>\n",
       "      <td>0.900641</td>\n",
       "      <td>0.917017</td>\n",
       "      <td>0.024681</td>\n",
       "      <td>1</td>\n",
       "    </tr>\n",
       "    <tr>\n",
       "      <th>5</th>\n",
       "      <td>0.042443</td>\n",
       "      <td>0.005905</td>\n",
       "      <td>0.003966</td>\n",
       "      <td>0.006350</td>\n",
       "      <td>squared_error</td>\n",
       "      <td>20</td>\n",
       "      <td>{'criterion': 'squared_error', 'n_estimators':...</td>\n",
       "      <td>0.914472</td>\n",
       "      <td>0.866696</td>\n",
       "      <td>0.929642</td>\n",
       "      <td>0.948585</td>\n",
       "      <td>0.892543</td>\n",
       "      <td>0.910388</td>\n",
       "      <td>0.028544</td>\n",
       "      <td>3</td>\n",
       "    </tr>\n",
       "    <tr>\n",
       "      <th>6</th>\n",
       "      <td>0.043569</td>\n",
       "      <td>0.037092</td>\n",
       "      <td>0.002144</td>\n",
       "      <td>0.003089</td>\n",
       "      <td>poisson</td>\n",
       "      <td>10</td>\n",
       "      <td>{'criterion': 'poisson', 'n_estimators': 10}</td>\n",
       "      <td>0.920950</td>\n",
       "      <td>0.861283</td>\n",
       "      <td>0.906978</td>\n",
       "      <td>0.931494</td>\n",
       "      <td>0.890729</td>\n",
       "      <td>0.902287</td>\n",
       "      <td>0.024651</td>\n",
       "      <td>8</td>\n",
       "    </tr>\n",
       "    <tr>\n",
       "      <th>7</th>\n",
       "      <td>0.039657</td>\n",
       "      <td>0.006100</td>\n",
       "      <td>0.000000</td>\n",
       "      <td>0.000000</td>\n",
       "      <td>poisson</td>\n",
       "      <td>15</td>\n",
       "      <td>{'criterion': 'poisson', 'n_estimators': 15}</td>\n",
       "      <td>0.923599</td>\n",
       "      <td>0.855361</td>\n",
       "      <td>0.910862</td>\n",
       "      <td>0.920494</td>\n",
       "      <td>0.892775</td>\n",
       "      <td>0.900618</td>\n",
       "      <td>0.025051</td>\n",
       "      <td>9</td>\n",
       "    </tr>\n",
       "    <tr>\n",
       "      <th>8</th>\n",
       "      <td>0.041333</td>\n",
       "      <td>0.012753</td>\n",
       "      <td>0.006250</td>\n",
       "      <td>0.007655</td>\n",
       "      <td>poisson</td>\n",
       "      <td>20</td>\n",
       "      <td>{'criterion': 'poisson', 'n_estimators': 20}</td>\n",
       "      <td>0.927110</td>\n",
       "      <td>0.842306</td>\n",
       "      <td>0.922128</td>\n",
       "      <td>0.943839</td>\n",
       "      <td>0.906769</td>\n",
       "      <td>0.908430</td>\n",
       "      <td>0.035116</td>\n",
       "      <td>5</td>\n",
       "    </tr>\n",
       "  </tbody>\n",
       "</table>\n",
       "</div>"
      ],
      "text/plain": [
       "   mean_fit_time  std_fit_time  mean_score_time  std_score_time  \\\n",
       "0       0.053069      0.067361         0.006250        0.007654   \n",
       "1       0.021874      0.007655         0.006249        0.007654   \n",
       "2       0.043743      0.006250         0.003125        0.006249   \n",
       "3       0.021873      0.007654         0.000000        0.000000   \n",
       "4       0.018749      0.006251         0.006249        0.007654   \n",
       "5       0.042443      0.005905         0.003966        0.006350   \n",
       "6       0.043569      0.037092         0.002144        0.003089   \n",
       "7       0.039657      0.006100         0.000000        0.000000   \n",
       "8       0.041333      0.012753         0.006250        0.007655   \n",
       "\n",
       "  param_criterion param_n_estimators  \\\n",
       "0    friedman_mse                 10   \n",
       "1    friedman_mse                 15   \n",
       "2    friedman_mse                 20   \n",
       "3   squared_error                 10   \n",
       "4   squared_error                 15   \n",
       "5   squared_error                 20   \n",
       "6         poisson                 10   \n",
       "7         poisson                 15   \n",
       "8         poisson                 20   \n",
       "\n",
       "                                              params  split0_test_score  \\\n",
       "0  {'criterion': 'friedman_mse', 'n_estimators': 10}           0.941089   \n",
       "1  {'criterion': 'friedman_mse', 'n_estimators': 15}           0.909715   \n",
       "2  {'criterion': 'friedman_mse', 'n_estimators': 20}           0.927562   \n",
       "3  {'criterion': 'squared_error', 'n_estimators':...           0.920782   \n",
       "4  {'criterion': 'squared_error', 'n_estimators':...           0.930714   \n",
       "5  {'criterion': 'squared_error', 'n_estimators':...           0.914472   \n",
       "6       {'criterion': 'poisson', 'n_estimators': 10}           0.920950   \n",
       "7       {'criterion': 'poisson', 'n_estimators': 15}           0.923599   \n",
       "8       {'criterion': 'poisson', 'n_estimators': 20}           0.927110   \n",
       "\n",
       "   split1_test_score  split2_test_score  split3_test_score  split4_test_score  \\\n",
       "0           0.884078           0.913551           0.941902           0.889408   \n",
       "1           0.856277           0.929290           0.939333           0.896363   \n",
       "2           0.874268           0.918335           0.932825           0.894350   \n",
       "3           0.849881           0.930482           0.950650           0.885597   \n",
       "4           0.876842           0.933072           0.943814           0.900641   \n",
       "5           0.866696           0.929642           0.948585           0.892543   \n",
       "6           0.861283           0.906978           0.931494           0.890729   \n",
       "7           0.855361           0.910862           0.920494           0.892775   \n",
       "8           0.842306           0.922128           0.943839           0.906769   \n",
       "\n",
       "   mean_test_score  std_test_score  rank_test_score  \n",
       "0         0.914005        0.024547                2  \n",
       "1         0.906196        0.029094                7  \n",
       "2         0.909468        0.021996                4  \n",
       "3         0.907479        0.035683                6  \n",
       "4         0.917017        0.024681                1  \n",
       "5         0.910388        0.028544                3  \n",
       "6         0.902287        0.024651                8  \n",
       "7         0.900618        0.025051                9  \n",
       "8         0.908430        0.035116                5  "
      ]
     },
     "execution_count": 49,
     "metadata": {},
     "output_type": "execute_result"
    }
   ],
   "source": [
    "pd.DataFrame(reg.cv_results_)"
   ]
  },
  {
   "cell_type": "code",
   "execution_count": 50,
   "id": "8766e2ea",
   "metadata": {},
   "outputs": [],
   "source": [
    "model2 = RandomForestRegressor(n_estimators = 15,criterion = 'squared_error')\n",
    "model2.fit(X_trainp,y_train)\n",
    "y_pred = model2.predict(X_testp)"
   ]
  },
  {
   "cell_type": "code",
   "execution_count": 51,
   "id": "50d92297",
   "metadata": {
    "scrolled": true
   },
   "outputs": [
    {
     "name": "stdout",
     "output_type": "stream",
     "text": [
      "0.9424006247863177\n"
     ]
    }
   ],
   "source": [
    "print(r2_score(y_test,y_pred))"
   ]
  },
  {
   "cell_type": "code",
   "execution_count": 52,
   "id": "1bb6aa74",
   "metadata": {},
   "outputs": [
    {
     "data": {
      "text/plain": [
       "9797.888391615033"
      ]
     },
     "execution_count": 52,
     "metadata": {},
     "output_type": "execute_result"
    }
   ],
   "source": [
    "error = np.sqrt(mean_squared_error(y_test,y_pred))\n",
    "error"
   ]
  },
  {
   "cell_type": "code",
   "execution_count": 53,
   "id": "93ec7567",
   "metadata": {},
   "outputs": [
    {
     "data": {
      "text/plain": [
       "[\"Master's\", 'Senior Software Engineer', 4]"
      ]
     },
     "execution_count": 53,
     "metadata": {},
     "output_type": "execute_result"
    }
   ],
   "source": [
    "x = [\"Master's\",\"Senior Software Engineer\",4]\n",
    "x"
   ]
  },
  {
   "cell_type": "code",
   "execution_count": 54,
   "id": "a33557ec",
   "metadata": {},
   "outputs": [],
   "source": [
    "if x[0] == \"Bachelor's\":\n",
    "    x[0] = 2\n",
    "if x[0] == \"Master's\":\n",
    "    x[0] = 1\n",
    "if x[0] == 'PhD':\n",
    "    x[0] =0"
   ]
  },
  {
   "cell_type": "code",
   "execution_count": 58,
   "id": "ca6e9bee",
   "metadata": {},
   "outputs": [],
   "source": [
    "x = np.array(x)"
   ]
  },
  {
   "cell_type": "code",
   "execution_count": 63,
   "id": "574bdda0",
   "metadata": {},
   "outputs": [],
   "source": [
    "x = x.reshape(1,-1)"
   ]
  },
  {
   "cell_type": "code",
   "execution_count": 64,
   "id": "2ae0d8e5",
   "metadata": {},
   "outputs": [
    {
     "data": {
      "text/plain": [
       "array([['1', 'Senior Software Engineer', '4']], dtype='<U24')"
      ]
     },
     "execution_count": 64,
     "metadata": {},
     "output_type": "execute_result"
    }
   ],
   "source": [
    "x"
   ]
  },
  {
   "cell_type": "code",
   "execution_count": 65,
   "id": "a2a18c43",
   "metadata": {
    "scrolled": false
   },
   "outputs": [],
   "source": [
    "x[:,1] = le_job.transform(x[:,1])\n"
   ]
  },
  {
   "cell_type": "code",
   "execution_count": 68,
   "id": "2f811bd4",
   "metadata": {},
   "outputs": [
    {
     "data": {
      "text/plain": [
       "array([[ 1, 38,  4]])"
      ]
     },
     "execution_count": 68,
     "metadata": {},
     "output_type": "execute_result"
    }
   ],
   "source": [
    "x = x.astype(int)\n",
    "x"
   ]
  },
  {
   "cell_type": "code",
   "execution_count": 69,
   "id": "780dcb68",
   "metadata": {},
   "outputs": [
    {
     "data": {
      "text/plain": [
       "array([260628.45474612])"
      ]
     },
     "execution_count": 69,
     "metadata": {},
     "output_type": "execute_result"
    }
   ],
   "source": [
    "linearp.predict(x)"
   ]
  },
  {
   "cell_type": "code",
   "execution_count": 70,
   "id": "3fd6986d",
   "metadata": {},
   "outputs": [],
   "source": [
    "import pickle\n",
    "data = {'model':linearp,'le_job':le_job}\n",
    "with open('salary.pkl','wb') as file:\n",
    "    pickle.dump(data,file)"
   ]
  }
 ],
 "metadata": {
  "kernelspec": {
   "display_name": "Python 3 (ipykernel)",
   "language": "python",
   "name": "python3"
  },
  "language_info": {
   "codemirror_mode": {
    "name": "ipython",
    "version": 3
   },
   "file_extension": ".py",
   "mimetype": "text/x-python",
   "name": "python",
   "nbconvert_exporter": "python",
   "pygments_lexer": "ipython3",
   "version": "3.10.9"
  }
 },
 "nbformat": 4,
 "nbformat_minor": 5
}
